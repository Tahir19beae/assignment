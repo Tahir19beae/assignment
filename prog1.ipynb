{
  "nbformat": 4,
  "nbformat_minor": 0,
  "metadata": {
    "colab": {
      "name": "prog1.ipynb",
      "provenance": [],
      "collapsed_sections": []
    },
    "kernelspec": {
      "name": "python3",
      "display_name": "Python 3"
    }
  },
  "cells": [
    {
      "cell_type": "markdown",
      "metadata": {
        "id": "_kjuKnUwkLWI"
      },
      "source": [
        "# python "
      ]
    },
    {
      "cell_type": "code",
      "metadata": {
        "id": "Al5ss0vykYty",
        "colab": {
          "base_uri": "https://localhost:8080/"
        },
        "outputId": "851410ec-78b7-48f5-f128-94848641147c"
      },
      "source": [
        "# storing a number\n",
        "a= 14\n",
        "print(a)"
      ],
      "execution_count": null,
      "outputs": [
        {
          "output_type": "stream",
          "text": [
            "14\n"
          ],
          "name": "stdout"
        }
      ]
    },
    {
      "cell_type": "code",
      "metadata": {
        "id": "pa9keonUlzGp",
        "colab": {
          "base_uri": "https://localhost:8080/"
        },
        "outputId": "ccf27a32-7d37-4954-b639-6c9775d73255"
      },
      "source": [
        "# storing a number\n",
        "b=32\n",
        "print(b)"
      ],
      "execution_count": null,
      "outputs": [
        {
          "output_type": "stream",
          "text": [
            "32\n"
          ],
          "name": "stdout"
        }
      ]
    },
    {
      "cell_type": "code",
      "metadata": {
        "id": "eNBVoKJ-mrYp",
        "colab": {
          "base_uri": "https://localhost:8080/"
        },
        "outputId": "42c955e9-99ba-4e5a-8466-3d628b94352e"
      },
      "source": [
        "c=a+b\n",
        "print(c)"
      ],
      "execution_count": null,
      "outputs": [
        {
          "output_type": "stream",
          "text": [
            "46\n"
          ],
          "name": "stdout"
        }
      ]
    },
    {
      "cell_type": "code",
      "metadata": {
        "id": "HlvgXUrhmvh2",
        "colab": {
          "base_uri": "https://localhost:8080/",
          "height": 35
        },
        "outputId": "54249c96-62c8-45e9-d1cf-39493a231996"
      },
      "source": [
        "# text\n",
        "\"this is the intro class of google colab\""
      ],
      "execution_count": null,
      "outputs": [
        {
          "output_type": "execute_result",
          "data": {
            "application/vnd.google.colaboratory.intrinsic+json": {
              "type": "string"
            },
            "text/plain": [
              "'this is the intro class of google colab'"
            ]
          },
          "metadata": {
            "tags": []
          },
          "execution_count": 9
        }
      ]
    },
    {
      "cell_type": "code",
      "metadata": {
        "id": "hnpCLW95obIC"
      },
      "source": [
        "# how to change variable\n"
      ],
      "execution_count": null,
      "outputs": []
    },
    {
      "cell_type": "code",
      "metadata": {
        "id": "7kWsntxqo-AA",
        "colab": {
          "base_uri": "https://localhost:8080/"
        },
        "outputId": "d20ef88f-ff72-4b2f-cb98-92a8901010d4"
      },
      "source": [
        "# types of variable\n",
        "# floating type variable\n",
        "a= 5.5\n",
        "print(a)\n",
        "print(type(a))"
      ],
      "execution_count": null,
      "outputs": [
        {
          "output_type": "stream",
          "text": [
            "5.5\n",
            "<class 'float'>\n"
          ],
          "name": "stdout"
        }
      ]
    },
    {
      "cell_type": "code",
      "metadata": {
        "id": "IEIENAKBq9SS",
        "colab": {
          "base_uri": "https://localhost:8080/"
        },
        "outputId": "f6880b6b-2501-4407-bbab-ef880f2cd408"
      },
      "source": [
        "# type of variables\n",
        "# boolean variable--- true or false\n",
        "a= True\n",
        "print(a)\n",
        "print(type(a))\n"
      ],
      "execution_count": null,
      "outputs": [
        {
          "output_type": "stream",
          "text": [
            "True\n",
            "<class 'bool'>\n"
          ],
          "name": "stdout"
        }
      ]
    },
    {
      "cell_type": "code",
      "metadata": {
        "id": "lyK1l8lHrNxn",
        "colab": {
          "base_uri": "https://localhost:8080/"
        },
        "outputId": "104a2837-b787-423a-c500-6f1e112c02c0"
      },
      "source": [
        "#type of variable\n",
        "# float \n",
        "a=\"5\"\n",
        "print(a)\n",
        "print(type(a))\n"
      ],
      "execution_count": null,
      "outputs": [
        {
          "output_type": "stream",
          "text": [
            "5\n",
            "<class 'str'>\n"
          ],
          "name": "stdout"
        }
      ]
    },
    {
      "cell_type": "code",
      "metadata": {
        "id": "TAZKJEYsrX4A",
        "colab": {
          "base_uri": "https://localhost:8080/"
        },
        "outputId": "e4b50268-61bb-47c3-c37e-d08fb27bd7c2"
      },
      "source": [
        "#type of variables\n",
        "# concatenate string\n",
        "d=\"10\"\n",
        "m=\"10\"\n",
        "y=\"2020\"\n",
        "a=d+m+y\n",
        "\n",
        "print(a)\n",
        "print(type(a))"
      ],
      "execution_count": null,
      "outputs": [
        {
          "output_type": "stream",
          "text": [
            "10102020\n",
            "<class 'str'>\n"
          ],
          "name": "stdout"
        }
      ]
    },
    {
      "cell_type": "markdown",
      "metadata": {
        "id": "d1Y-46H0s1mJ"
      },
      "source": [
        "**Array or list variable**\n",
        "are containers-extremely useful-with compartments store another variable"
      ]
    },
    {
      "cell_type": "code",
      "metadata": {
        "id": "z-t9YU7_tJxZ",
        "colab": {
          "base_uri": "https://localhost:8080/"
        },
        "outputId": "45dc1342-21a1-4dfa-cc1d-48d11d3386d1"
      },
      "source": [
        "# Array or List Variable\n",
        "a=[1,2,3]\n",
        "print(a)"
      ],
      "execution_count": null,
      "outputs": [
        {
          "output_type": "stream",
          "text": [
            "[1, 2, 3]\n"
          ],
          "name": "stdout"
        }
      ]
    },
    {
      "cell_type": "code",
      "metadata": {
        "id": "IAUOvWl9tbdx",
        "colab": {
          "base_uri": "https://localhost:8080/"
        },
        "outputId": "a2e83774-7907-4e45-d954-9a9966a8453f"
      },
      "source": [
        "# array \n",
        "b=[1,2,3]\n",
        "print(b)"
      ],
      "execution_count": null,
      "outputs": [
        {
          "output_type": "stream",
          "text": [
            "[1, 2, 3]\n"
          ],
          "name": "stdout"
        }
      ]
    },
    {
      "cell_type": "code",
      "metadata": {
        "id": "xhUvWgmluRmA",
        "colab": {
          "base_uri": "https://localhost:8080/"
        },
        "outputId": "dd16b341-ee2e-46fb-ddae-a5941c8ebdbb"
      },
      "source": [
        "#array\n",
        "c=[1,2,3,\"text\",\"variables\"]\n",
        "print(c) "
      ],
      "execution_count": null,
      "outputs": [
        {
          "output_type": "stream",
          "text": [
            "[1, 2, 3, 'text', 'variables']\n"
          ],
          "name": "stdout"
        }
      ]
    },
    {
      "cell_type": "code",
      "metadata": {
        "id": "dqz5ZFX7u1uV",
        "colab": {
          "base_uri": "https://localhost:8080/"
        },
        "outputId": "f3cb5b52-2010-4f3c-c5d2-1f1ffd817a9e"
      },
      "source": [
        "# indexing lists or accesing specific variables--from location in the list\n",
        "c=[1,2,3,\"text\",\"variables\"]\n",
        "print(c[0])\n",
        "print(c[1])\n",
        "print(c[2])\n",
        "print(c[3])\n",
        "print(c[4])\n"
      ],
      "execution_count": null,
      "outputs": [
        {
          "output_type": "stream",
          "text": [
            "1\n",
            "2\n",
            "3\n",
            "text\n",
            "variables\n"
          ],
          "name": "stdout"
        }
      ]
    },
    {
      "cell_type": "code",
      "metadata": {
        "id": "i9p3aQU3vYz-",
        "colab": {
          "base_uri": "https://localhost:8080/"
        },
        "outputId": "9572b295-7c96-4300-c299-441810aecbbb"
      },
      "source": [
        "c.append(4)\n",
        "print(c)\n"
      ],
      "execution_count": null,
      "outputs": [
        {
          "output_type": "stream",
          "text": [
            "[1, 2, 3, 'text', 'variables', 4]\n"
          ],
          "name": "stdout"
        }
      ]
    },
    {
      "cell_type": "code",
      "metadata": {
        "id": "VD47BXKmvfdj",
        "colab": {
          "base_uri": "https://localhost:8080/"
        },
        "outputId": "a600c8df-2fa3-4807-92c7-b5b90b7ab5d2"
      },
      "source": [
        "print(len(c))"
      ],
      "execution_count": null,
      "outputs": [
        {
          "output_type": "stream",
          "text": [
            "6\n"
          ],
          "name": "stdout"
        }
      ]
    },
    {
      "cell_type": "code",
      "metadata": {
        "id": "0paTdarWviLz",
        "colab": {
          "base_uri": "https://localhost:8080/"
        },
        "outputId": "abeaa6de-7339-4e0a-9953-25fcdf0629f8"
      },
      "source": [
        "c[4]=5\n",
        "print(c)\n"
      ],
      "execution_count": null,
      "outputs": [
        {
          "output_type": "stream",
          "text": [
            "[1, 2, 3, 'text', 5, 4]\n"
          ],
          "name": "stdout"
        }
      ]
    },
    {
      "cell_type": "code",
      "metadata": {
        "id": "9qfm7jQzvxr4",
        "colab": {
          "base_uri": "https://localhost:8080/"
        },
        "outputId": "eef2b9cb-4ceb-41cb-afef-0f87856fb502"
      },
      "source": [
        "print(\"all elements of c variable:\",c[:])"
      ],
      "execution_count": null,
      "outputs": [
        {
          "output_type": "stream",
          "text": [
            "all elements of c variable: [1, 2, 3, 'text', 5, 4]\n"
          ],
          "name": "stdout"
        }
      ]
    },
    {
      "cell_type": "code",
      "metadata": {
        "id": "dW_8sBMPvYD-"
      },
      "source": [
        ""
      ],
      "execution_count": null,
      "outputs": []
    },
    {
      "cell_type": "code",
      "metadata": {
        "id": "fvneI2LQBLrb",
        "colab": {
          "base_uri": "https://localhost:8080/"
        },
        "outputId": "944616dc-9f91-4f29-a437-e9b55f6c6a0c"
      },
      "source": [
        "#creating a simple python list\n",
        "a=[1,2,5,5,8,]\n",
        "a"
      ],
      "execution_count": null,
      "outputs": [
        {
          "output_type": "execute_result",
          "data": {
            "text/plain": [
              "[1, 2, 5, 5, 8]"
            ]
          },
          "metadata": {
            "tags": []
          },
          "execution_count": 4
        }
      ]
    },
    {
      "cell_type": "code",
      "metadata": {
        "id": "xtdu2WOPCBcU",
        "colab": {
          "base_uri": "https://localhost:8080/"
        },
        "outputId": "c624dc2a-71ef-4dea-8535-08fc8f89263f"
      },
      "source": [
        "#now convert it into pandas called a series \n",
        "import pandas as pd\n",
        "a = pd.Series(a)\n",
        "a"
      ],
      "execution_count": null,
      "outputs": [
        {
          "output_type": "execute_result",
          "data": {
            "text/plain": [
              "0    1\n",
              "1    2\n",
              "2    5\n",
              "3    5\n",
              "4    8\n",
              "dtype: int64"
            ]
          },
          "metadata": {
            "tags": []
          },
          "execution_count": 9
        }
      ]
    },
    {
      "cell_type": "code",
      "metadata": {
        "id": "QBz0lOd7IE-K",
        "colab": {
          "base_uri": "https://localhost:8080/"
        },
        "outputId": "233efafa-cd5f-4435-d65a-bb9ef3d2fc4d"
      },
      "source": [
        "a.min()"
      ],
      "execution_count": null,
      "outputs": [
        {
          "output_type": "execute_result",
          "data": {
            "text/plain": [
              "1"
            ]
          },
          "metadata": {
            "tags": []
          },
          "execution_count": 11
        }
      ]
    },
    {
      "cell_type": "code",
      "metadata": {
        "id": "LfJhLHmIIJ78",
        "colab": {
          "base_uri": "https://localhost:8080/"
        },
        "outputId": "4f9ef62b-5189-4735-8ee5-8b4a540e0c91"
      },
      "source": [
        "a.max()"
      ],
      "execution_count": null,
      "outputs": [
        {
          "output_type": "execute_result",
          "data": {
            "text/plain": [
              "8"
            ]
          },
          "metadata": {
            "tags": []
          },
          "execution_count": 13
        }
      ]
    },
    {
      "cell_type": "markdown",
      "metadata": {
        "id": "6qgo-5jxqxWd"
      },
      "source": [
        "\n",
        "**Dictionaries**\n",
        "\n"
      ]
    },
    {
      "cell_type": "code",
      "metadata": {
        "id": "nukpVCeaq-JT",
        "colab": {
          "base_uri": "https://localhost:8080/"
        },
        "outputId": "64a39ccd-b322-4e7f-cfca-bfb08559f1ae"
      },
      "source": [
        "# creating a dictionary\n",
        "country_info = {\"name\": \"india\",\"capital\":\"delhi\"}\n",
        "print(country_info)"
      ],
      "execution_count": null,
      "outputs": [
        {
          "output_type": "stream",
          "text": [
            "{'name': 'india', 'capital': 'delhi'}\n"
          ],
          "name": "stdout"
        }
      ]
    },
    {
      "cell_type": "code",
      "metadata": {
        "id": "MaK6FlCqrN9C",
        "colab": {
          "base_uri": "https://localhost:8080/"
        },
        "outputId": "88a36121-a9e3-40a9-aa73-4f9111fe14a0"
      },
      "source": [
        "country_info = {\"name\": \"india\",\"capital\":\"delhi\"}\n",
        "print(country_info[\"name\"])"
      ],
      "execution_count": null,
      "outputs": [
        {
          "output_type": "stream",
          "text": [
            "india\n"
          ],
          "name": "stdout"
        }
      ]
    },
    {
      "cell_type": "code",
      "metadata": {
        "id": "pmnMyal5q3QB",
        "colab": {
          "base_uri": "https://localhost:8080/"
        },
        "outputId": "4a974cca-32f0-437c-d50c-545107799e14"
      },
      "source": [
        "country_info = {\"name\": \"india\",\"capital\":\"delhi\"}\n",
        "print(country_info[\"capital\"])"
      ],
      "execution_count": null,
      "outputs": [
        {
          "output_type": "stream",
          "text": [
            "delhi\n"
          ],
          "name": "stdout"
        }
      ]
    },
    {
      "cell_type": "code",
      "metadata": {
        "id": "hU-6U7KVrpRN",
        "colab": {
          "base_uri": "https://localhost:8080/"
        },
        "outputId": "23cc81ba-b264-4611-eaa0-ae9e65a9b6d3"
      },
      "source": [
        "# creating a dictionary\n",
        "country_info = {\"name\": \"japan\",\"capital\":\"tokyo\"}\n",
        "print(country_info)\n",
        "print(country_info[\"name\"])\n",
        "print(country_info[\"capital\"])"
      ],
      "execution_count": null,
      "outputs": [
        {
          "output_type": "stream",
          "text": [
            "{'name': 'japan', 'capital': 'tokyo'}\n",
            "japan\n",
            "tokyo\n"
          ],
          "name": "stdout"
        }
      ]
    },
    {
      "cell_type": "code",
      "metadata": {
        "id": "aG1NSbgDs--l",
        "colab": {
          "base_uri": "https://localhost:8080/"
        },
        "outputId": "75307b83-9f38-4fb4-8dbd-30a965671a1b"
      },
      "source": [
        "country_info['population']='139.67'\n",
        "print(country_info)"
      ],
      "execution_count": null,
      "outputs": [
        {
          "output_type": "stream",
          "text": [
            "{'name': 'japan', 'capital': 'tokyo', 'population': '139.67'}\n"
          ],
          "name": "stdout"
        }
      ]
    },
    {
      "cell_type": "code",
      "metadata": {
        "id": "PJx34uYZtSYf",
        "colab": {
          "base_uri": "https://localhost:8080/"
        },
        "outputId": "84edfee6-4cf4-44d3-b918-a69b6d05c988"
      },
      "source": [
        "country_info['region']=['hokkaido','tohoko','kanto','chubu']\n",
        "print(country_info)"
      ],
      "execution_count": null,
      "outputs": [
        {
          "output_type": "stream",
          "text": [
            "{'name': 'japan', 'capital': 'tokyo', 'population': '139.67', 'region': ['hokkaido', 'tohoko', 'kanto', 'chubu']}\n"
          ],
          "name": "stdout"
        }
      ]
    }
  ]
}
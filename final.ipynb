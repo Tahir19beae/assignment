{
  "nbformat": 4,
  "nbformat_minor": 0,
  "metadata": {
    "colab": {
      "name": "final.ipynb",
      "provenance": []
    },
    "kernelspec": {
      "name": "python3",
      "display_name": "Python 3"
    }
  },
  "cells": [
    {
      "cell_type": "code",
      "metadata": {
        "colab": {
          "base_uri": "https://localhost:8080/"
        },
        "id": "uvL9g_zBebTr",
        "outputId": "8a75661c-0124-47cb-e781-cad4322e9511"
      },
      "source": [
        "import numpy\n",
        " \n",
        "speed = [89,94,22,66,75,84,55,97]\n",
        " \n",
        "x = numpy.mean(speed)\n",
        "print(x)"
      ],
      "execution_count": null,
      "outputs": [
        {
          "output_type": "stream",
          "text": [
            "72.75\n"
          ],
          "name": "stdout"
        }
      ]
    },
    {
      "cell_type": "code",
      "metadata": {
        "colab": {
          "base_uri": "https://localhost:8080/"
        },
        "id": "-S1ELtbmgsIQ",
        "outputId": "75055ed7-78a4-460e-9cdd-7ef1d550c77d"
      },
      "source": [
        "import numpy\n",
        " \n",
        "speed = [89,94,22,66,75,84,55,97]\n",
        " \n",
        "x = numpy.median(speed)\n",
        "print(x)"
      ],
      "execution_count": null,
      "outputs": [
        {
          "output_type": "stream",
          "text": [
            "79.5\n"
          ],
          "name": "stdout"
        }
      ]
    },
    {
      "cell_type": "code",
      "metadata": {
        "colab": {
          "base_uri": "https://localhost:8080/"
        },
        "id": "BrhNWSSJg4DZ",
        "outputId": "4a9a541c-a454-4fa4-c651-b1b551d0fce7"
      },
      "source": [
        "from scipy import stats\r\n",
        "x = stats.mode(speed)\r\n",
        "print(x)"
      ],
      "execution_count": null,
      "outputs": [
        {
          "output_type": "stream",
          "text": [
            "ModeResult(mode=array([22]), count=array([1]))\n"
          ],
          "name": "stdout"
        }
      ]
    },
    {
      "cell_type": "code",
      "metadata": {
        "colab": {
          "base_uri": "https://localhost:8080/"
        },
        "id": "WjUohifig9FR",
        "outputId": "bebf9f72-7ff1-4604-ecd3-c1bc3af2ce01"
      },
      "source": [
        "\r\n",
        "\r\n",
        "speed = [89,94,22,66,75,84,55,97]\r\n",
        "\r\n",
        "x = numpy.median(speed)\r\n",
        "y = numpy.std(speed)\r\n",
        "z = numpy.var(speed)\r\n",
        "\r\n",
        "print(x,y,z)"
      ],
      "execution_count": null,
      "outputs": [
        {
          "output_type": "stream",
          "text": [
            "79.5 23.3760026522928 546.4375\n"
          ],
          "name": "stdout"
        }
      ]
    },
    {
      "cell_type": "code",
      "metadata": {
        "colab": {
          "base_uri": "https://localhost:8080/"
        },
        "id": "pJuFuKtwh00Z",
        "outputId": "5d1711e8-4ebe-4f42-8ad2-27894197d270"
      },
      "source": [
        "import numpy\r\n",
        "\r\n",
        "age = [99,23,44,55,35,26,77,53,22,43]\r\n",
        "\r\n",
        "x = numpy.percentile(age,75)\r\n",
        "\r\n",
        "print(x)"
      ],
      "execution_count": null,
      "outputs": [
        {
          "output_type": "stream",
          "text": [
            "54.5\n"
          ],
          "name": "stdout"
        }
      ]
    },
    {
      "cell_type": "code",
      "metadata": {
        "colab": {
          "base_uri": "https://localhost:8080/",
          "height": 265
        },
        "id": "-Dt7u6r3jgOA",
        "outputId": "f362982f-7b84-46c5-b682-ea030aae9b32"
      },
      "source": [
        "import numpy\r\n",
        "import matplotlib.pyplot as plt\r\n",
        "\r\n",
        "x = numpy.random.normal(5.0,1.0,1000000)\r\n",
        "\r\n",
        "plt.hist(x,100)\r\n",
        "plt.show()\r\n"
      ],
      "execution_count": null,
      "outputs": [
        {
          "output_type": "display_data",
          "data": {
            "image/png": "[encoded data removed]",
            "text/plain": [
              "<Figure size 432x288 with 1 Axes>"
            ]
          },
          "metadata": {
            "tags": [],
            "needs_background": "light"
          }
        }
      ]
    },
    {
      "cell_type": "code",
      "metadata": {
        "colab": {
          "base_uri": "https://localhost:8080/",
          "height": 265
        },
        "id": "XJwGg9AukbG8",
        "outputId": "5491e6e1-4609-4e27-8581-3c6503e33563"
      },
      "source": [
        "#scatter plot\r\n",
        "\r\n",
        "x = [5,7,8,9,7,2,2,4,6,8,11,23,22,20]\r\n",
        "\r\n",
        "y = [99,64,27,88,66,96,35,88,55,47,99,46,57,45]\r\n",
        "\r\n",
        "plt.scatter(x,y)\r\n",
        "plt.show()"
      ],
      "execution_count": null,
      "outputs": [
        {
          "output_type": "display_data",
          "data": {
            "image/png": "[encoded data removed]",
            "text/plain": [
              "<Figure size 432x288 with 1 Axes>"
            ]
          },
          "metadata": {
            "tags": [],
            "needs_background": "light"
          }
        }
      ]
    },
    {
      "cell_type": "code",
      "metadata": {
        "id": "xbnwccO8lMFI"
      },
      "source": [
        ""
      ],
      "execution_count": null,
      "outputs": []
    }
  ]
}